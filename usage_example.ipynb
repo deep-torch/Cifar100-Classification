{
  "nbformat": 4,
  "nbformat_minor": 0,
  "metadata": {
    "colab": {
      "provenance": [],
      "gpuType": "T4"
    },
    "kernelspec": {
      "name": "python3",
      "display_name": "Python 3"
    },
    "language_info": {
      "name": "python"
    },
    "accelerator": "GPU"
  },
  "cells": [
    {
      "cell_type": "code",
      "execution_count": null,
      "metadata": {
        "id": "Y2HAEedo_Dm2"
      },
      "outputs": [],
      "source": [
        "%%bash\n",
        "# install 7z library\n",
        "wget https://www.7-zip.org/a/7z2301-linux-x64.tar.xz\n",
        "tar -xf /content/7z2301-linux-x64.tar.xz"
      ]
    },
    {
      "cell_type": "code",
      "source": [
        "!/content/7zz x \"/content/cifar100_classification.7z\""
      ],
      "metadata": {
        "id": "tSsQbUjO_WGB"
      },
      "execution_count": null,
      "outputs": []
    },
    {
      "cell_type": "code",
      "source": [
        "!mkdir /content/cps"
      ],
      "metadata": {
        "id": "7HAPtCFYwcOT"
      },
      "execution_count": null,
      "outputs": []
    },
    {
      "cell_type": "code",
      "source": [
        "!python -m cifar100_classification.train \\\n",
        "        --epochs 50 \\\n",
        "        --batch_size 64 \\\n",
        "        --lr_conv 5e-4 \\\n",
        "        --lr_fc 1e-3 \\\n",
        "        --weight_decay 1e-3 \\\n",
        "        --checkpoint_path '/content/cps'"
      ],
      "metadata": {
        "id": "nevHwe0Hv0uJ"
      },
      "execution_count": null,
      "outputs": []
    },
    {
      "cell_type": "code",
      "source": [],
      "metadata": {
        "id": "ns0klb-Bwgao"
      },
      "execution_count": null,
      "outputs": []
    }
  ]
}